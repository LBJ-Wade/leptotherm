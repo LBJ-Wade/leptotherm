{
 "cells": [
  {
   "cell_type": "code",
   "execution_count": null,
   "metadata": {},
   "outputs": [],
   "source": [
    "from leptomts import LeptoCalc"
   ]
  },
  {
   "cell_type": "code",
   "execution_count": null,
   "metadata": {},
   "outputs": [],
   "source": [
    "APPROX=True"
   ]
  },
  {
   "cell_type": "code",
   "execution_count": null,
   "metadata": {},
   "outputs": [],
   "source": [
    "NDS=1"
   ]
  },
  {
   "cell_type": "code",
   "execution_count": null,
   "metadata": {},
   "outputs": [],
   "source": [
    "L=LeptoCalc(nds=NDS, approx=APPROX, controlplots=True)"
   ]
  },
  {
   "cell_type": "code",
   "execution_count": null,
   "metadata": {},
   "outputs": [],
   "source": [
    "ORDERING=0"
   ]
  },
  {
   "cell_type": "code",
   "execution_count": null,
   "metadata": {},
   "outputs": [],
   "source": [
    "P={\n",
    "\"delta\":278.677086,\n",
    "\"a\":142.698169,\n",
    "\"b\":1.879787,\n",
    "\"theta23\":49.189775,\n",
    "\"x1\":297.465891,\n",
    "\"y1\":179.897429,\n",
    "\"x2\":87.508218,\n",
    "\"y2\":2.288384,\n",
    "\"x3\":142.236107,\n",
    "\"y3\":179.213389,\n",
    "\"m1\":-1.245077,\n",
    "\"theta12\":33.630000,\n",
    "\"theta13\":8.520000,\n",
    "\"M1\":6.000000,\n",
    "\"M2\":6.500000,\n",
    "\"M3\":7.000000,\n",
    "\"ordering\":ORDERING\n",
    "}"
   ]
  },
  {
   "cell_type": "code",
   "execution_count": null,
   "metadata": {},
   "outputs": [],
   "source": [
    "L.setParams(P)"
   ]
  },
  {
   "cell_type": "code",
   "execution_count": null,
   "metadata": {},
   "outputs": [],
   "source": [
    "L.EtaB"
   ]
  },
  {
   "cell_type": "code",
   "execution_count": null,
   "metadata": {},
   "outputs": [],
   "source": [
    "from IPython.display import Image\n",
    "nevol = Image(filename=('nevol.png'))\n",
    "nevol\n"
   ]
  },
  {
   "cell_type": "code",
   "execution_count": null,
   "metadata": {},
   "outputs": [],
   "source": [
    "from IPython.display import Image\n",
    "etaevol= Image(filename=('etaevol.png'))\n",
    "etaevol"
   ]
  }
 ],
 "metadata": {
  "kernelspec": {
   "display_name": "Python 3",
   "language": "python",
   "name": "python3"
  },
  "language_info": {
   "codemirror_mode": {
    "name": "ipython",
    "version": 3
   },
   "file_extension": ".py",
   "mimetype": "text/x-python",
   "name": "python",
   "nbconvert_exporter": "python",
   "pygments_lexer": "ipython3",
   "version": "3.6.3"
  }
 },
 "nbformat": 4,
 "nbformat_minor": 2
}
