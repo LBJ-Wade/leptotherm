{
 "cells": [
  {
   "cell_type": "markdown",
   "metadata": {},
   "source": [
    "# Calculation of the Baryon to Photon ratio"
   ]
  },
  {
   "cell_type": "markdown",
   "metadata": {},
   "source": [
    "This code allows to calculate the Baryon to Photon ration from thermal leptogenesis. The most precise measurement is $\\eta_B=(6.10\\pm0.04)\\cdot 10^{-10}$."
   ]
  },
  {
   "cell_type": "code",
   "execution_count": null,
   "metadata": {},
   "outputs": [],
   "source": [
    "%matplotlib inline  \n"
   ]
  },
  {
   "cell_type": "markdown",
   "metadata": {},
   "source": [
    "Here we can choose to use the full density matrix calculation or to use approximate Boltzmann equations. There will only be plots for the full calculation."
   ]
  },
  {
   "cell_type": "code",
   "execution_count": null,
   "metadata": {},
   "outputs": [],
   "source": [
    "APPROX=False"
   ]
  },
  {
   "cell_type": "markdown",
   "metadata": {},
   "source": [
    "The number of decaying sterile neutrinos can be either 1 or 2"
   ]
  },
  {
   "cell_type": "code",
   "execution_count": null,
   "metadata": {},
   "outputs": [],
   "source": [
    "NDS=1"
   ]
  },
  {
   "cell_type": "markdown",
   "metadata": {},
   "source": [
    "The normal mass ordering is used when setting ORDERING to 0. The inverse ordering is used when setting ORDERING=1."
   ]
  },
  {
   "cell_type": "code",
   "execution_count": null,
   "metadata": {},
   "outputs": [],
   "source": [
    "ORDERING=0"
   ]
  },
  {
   "cell_type": "code",
   "execution_count": null,
   "metadata": {},
   "outputs": [],
   "source": [
    "from leptomts import LeptoCalc"
   ]
  },
  {
   "cell_type": "code",
   "execution_count": null,
   "metadata": {},
   "outputs": [],
   "source": [
    "L=LeptoCalc(nds=NDS, approx=APPROX)"
   ]
  },
  {
   "cell_type": "markdown",
   "metadata": {},
   "source": [
    "## Chosing a parameter point for the calculation"
   ]
  },
  {
   "cell_type": "markdown",
   "metadata": {},
   "source": [
    "The following dictionary is the parameter point at which to evaluate the system. All angles are in degrees.\n",
    "All masses are given via an exponent, so $M_1=6$ means mass of a heavy sterile of $10^6$ GeV. The mass of the lightest active neutrino (m1) is given in eV however, i.e. $m_1=-1.24$ means a mass of $10^{-1.24}$ eV."
   ]
  },
  {
   "cell_type": "code",
   "execution_count": null,
   "metadata": {},
   "outputs": [],
   "source": [
    "P={    # This is a point that will yield an asymmetry consistent with the measurement \n",
    "       # in case of the 1 decaying strile scenario\n",
    "# PMNS matrix parameters\n",
    "\"theta12\":33.63, # Best fit value from nufit\n",
    "\"theta13\":8.52,  # Best fit value from nufit\n",
    "\"theta23\":50,\n",
    "\"delta\":270,\n",
    "\"a\":143,\n",
    "\"b\":2,\n",
    "# R-matrix parameters\n",
    "\"x1\":297,\n",
    "\"y1\":180,\n",
    "\"x2\":87.5,\n",
    "\"y2\":2.5,\n",
    "\"x3\":142,\n",
    "\"y3\":180,\n",
    "# log10 of the lightest active neutrino in eV\n",
    "\"m1\":-1.25,\n",
    "# The heavy sterile masses (log10) in GeV\n",
    "\"M1\":6.0,\n",
    "\"M2\":6.5,\n",
    "\"M3\":7.0,\n",
    "# The mass hierarchy\n",
    "\"ordering\":ORDERING\n",
    "}"
   ]
  },
  {
   "cell_type": "code",
   "execution_count": null,
   "metadata": {},
   "outputs": [],
   "source": [
    "L.setParams(P)"
   ]
  },
  {
   "cell_type": "markdown",
   "metadata": {},
   "source": [
    "## Plotting the evolution of the lepton asymmetries"
   ]
  },
  {
   "cell_type": "markdown",
   "metadata": {},
   "source": [
    "We plot the temperatur evolution of the (absolute) lepton asymmetries for all flavours $N_i$. The evolution is done in $z=M_1/T$. In addition the resulting evolution of Baryon to Photon ratio $\\eta_B=0.013\\cdot\\left(N_\\text{ee}+N_{\\mu\\mu} + N_{\\tau\\tau}\\right)$."
   ]
  },
  {
   "cell_type": "code",
   "execution_count": null,
   "metadata": {},
   "outputs": [],
   "source": [
    "eta_B = L.EtaB"
   ]
  },
  {
   "cell_type": "code",
   "execution_count": null,
   "metadata": {},
   "outputs": [],
   "source": [
    "print (\"Baryon to Photon ratio in the 1DS case: %e\"%eta_B)"
   ]
  },
  {
   "cell_type": "markdown",
   "metadata": {},
   "source": [
    "## The equivalent plots but for the case of 2 decaying steriles"
   ]
  },
  {
   "cell_type": "code",
   "execution_count": null,
   "metadata": {},
   "outputs": [],
   "source": [
    "L2=LeptoCalc(nds=2, approx=False)"
   ]
  },
  {
   "cell_type": "code",
   "execution_count": null,
   "metadata": {},
   "outputs": [],
   "source": [
    "L2.setParams(P)"
   ]
  },
  {
   "cell_type": "code",
   "execution_count": null,
   "metadata": {},
   "outputs": [],
   "source": [
    "eta_B2DS = L2.EtaB"
   ]
  },
  {
   "cell_type": "code",
   "execution_count": null,
   "metadata": {},
   "outputs": [],
   "source": [
    "print (\"Baryon to Photon ratio in the 2DS case: %e\"%eta_B2DS)"
   ]
  },
  {
   "cell_type": "code",
   "execution_count": null,
   "metadata": {},
   "outputs": [],
   "source": []
  }
 ],
 "metadata": {
  "kernelspec": {
   "display_name": "Python 3",
   "language": "python",
   "name": "python3"
  },
  "language_info": {
   "codemirror_mode": {
    "name": "ipython",
    "version": 3
   },
   "file_extension": ".py",
   "mimetype": "text/x-python",
   "name": "python",
   "nbconvert_exporter": "python",
   "pygments_lexer": "ipython3",
   "version": "3.6.3"
  }
 },
 "nbformat": 4,
 "nbformat_minor": 2
}
